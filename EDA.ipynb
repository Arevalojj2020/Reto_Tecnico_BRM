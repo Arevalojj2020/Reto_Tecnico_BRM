{
 "cells": [
  {
   "cell_type": "markdown",
   "metadata": {},
   "source": [
    "## Análisis Exploratorio De Datos\n",
    "*Los siguientes datos serán analizados para evaluar el comportamiento de la información**\n",
    "\n",
    "### Se importan la librerías que se utilizarán"
   ]
  },
  {
   "cell_type": "code",
   "execution_count": 1,
   "metadata": {},
   "outputs": [],
   "source": [
    "import pandas as pd\n",
    "import numpy as np\n",
    "import missingno as msno\n",
    "import warnings\n",
    "# Ignorar todos los warnings\n",
    "warnings.filterwarnings(\"ignore\")\n",
    "import matplotlib.pyplot as plt\n",
    "import seaborn as sns\n",
    "sns.set()"
   ]
  },
  {
   "cell_type": "markdown",
   "metadata": {},
   "source": [
    "## Se almancenan los datos en dataframes\n",
    "### Se usará el archivo \"Datasets Empresa.xlsx\". Al tener varias hojas de excel, se crearán varios dataframes diferentes"
   ]
  },
  {
   "cell_type": "code",
   "execution_count": 2,
   "metadata": {},
   "outputs": [],
   "source": [
    "data_ventas = pd.read_excel(\"Datasets Empresa.xlsx\", sheet_name = \"VENTAS\")\n",
    "data_clientes = pd.read_excel(\"Datasets Empresa.xlsx\", sheet_name = \"CLIENTES\")\n",
    "data_ubicaciones = pd.read_excel(\"Datasets Empresa.xlsx\", sheet_name = \"UBICACIONES\")\n",
    "data_cobros = pd.read_excel(\"Datasets Empresa.xlsx\", sheet_name = \"COBROS\")\n",
    "data_aux = pd.read_excel(\"Datasets Empresa.xlsx\", sheet_name = \"AUX\")"
   ]
  },
  {
   "cell_type": "markdown",
   "metadata": {},
   "source": [
    "## Primero analicemos la tabla de ventas\n",
    "### Para esto, daremos un vistazo con el fin de tener una idea acerca de los datos que trataremos"
   ]
  },
  {
   "cell_type": "code",
   "execution_count": 3,
   "metadata": {},
   "outputs": [
    {
     "data": {
      "text/html": [
       "<div>\n",
       "<style scoped>\n",
       "    .dataframe tbody tr th:only-of-type {\n",
       "        vertical-align: middle;\n",
       "    }\n",
       "\n",
       "    .dataframe tbody tr th {\n",
       "        vertical-align: top;\n",
       "    }\n",
       "\n",
       "    .dataframe thead th {\n",
       "        text-align: right;\n",
       "    }\n",
       "</style>\n",
       "<table border=\"1\" class=\"dataframe\">\n",
       "  <thead>\n",
       "    <tr style=\"text-align: right;\">\n",
       "      <th></th>\n",
       "      <th>Unnamed: 0</th>\n",
       "      <th>NroFactura</th>\n",
       "      <th>FechaFactura</th>\n",
       "      <th>Cliente</th>\n",
       "      <th>MontoSinImp</th>\n",
       "      <th>Impuestos</th>\n",
       "      <th>MontoFactura</th>\n",
       "    </tr>\n",
       "  </thead>\n",
       "  <tbody>\n",
       "    <tr>\n",
       "      <th>0</th>\n",
       "      <td>NaN</td>\n",
       "      <td>1</td>\n",
       "      <td>2014-01-03</td>\n",
       "      <td>Semillas Santo Mongo</td>\n",
       "      <td>765.68</td>\n",
       "      <td>203.53</td>\n",
       "      <td>969.21</td>\n",
       "    </tr>\n",
       "    <tr>\n",
       "      <th>1</th>\n",
       "      <td>NaN</td>\n",
       "      <td>2</td>\n",
       "      <td>2014-01-03</td>\n",
       "      <td>Buffalo Cnia</td>\n",
       "      <td>420.60</td>\n",
       "      <td>111.80</td>\n",
       "      <td>532.40</td>\n",
       "    </tr>\n",
       "    <tr>\n",
       "      <th>2</th>\n",
       "      <td>NaN</td>\n",
       "      <td>3</td>\n",
       "      <td>2014-01-03</td>\n",
       "      <td>Englewood Cnia</td>\n",
       "      <td>108.98</td>\n",
       "      <td>28.96</td>\n",
       "      <td>137.94</td>\n",
       "    </tr>\n",
       "    <tr>\n",
       "      <th>3</th>\n",
       "      <td>NaN</td>\n",
       "      <td>4</td>\n",
       "      <td>2014-01-04</td>\n",
       "      <td>Ross, Christian</td>\n",
       "      <td>304.94</td>\n",
       "      <td>81.05</td>\n",
       "      <td>385.99</td>\n",
       "    </tr>\n",
       "    <tr>\n",
       "      <th>4</th>\n",
       "      <td>NaN</td>\n",
       "      <td>5</td>\n",
       "      <td>2014-01-04</td>\n",
       "      <td>Diaz, Gabriel</td>\n",
       "      <td>107.07</td>\n",
       "      <td>28.45</td>\n",
       "      <td>135.52</td>\n",
       "    </tr>\n",
       "  </tbody>\n",
       "</table>\n",
       "</div>"
      ],
      "text/plain": [
       "   Unnamed: 0  NroFactura FechaFactura               Cliente  MontoSinImp  \\\n",
       "0         NaN           1   2014-01-03  Semillas Santo Mongo       765.68   \n",
       "1         NaN           2   2014-01-03          Buffalo Cnia       420.60   \n",
       "2         NaN           3   2014-01-03        Englewood Cnia       108.98   \n",
       "3         NaN           4   2014-01-04       Ross, Christian       304.94   \n",
       "4         NaN           5   2014-01-04         Diaz, Gabriel       107.07   \n",
       "\n",
       "   Impuestos  MontoFactura  \n",
       "0     203.53        969.21  \n",
       "1     111.80        532.40  \n",
       "2      28.96        137.94  \n",
       "3      81.05        385.99  \n",
       "4      28.45        135.52  "
      ]
     },
     "execution_count": 3,
     "metadata": {},
     "output_type": "execute_result"
    }
   ],
   "source": [
    "data_ventas.head()"
   ]
  },
  {
   "cell_type": "code",
   "execution_count": 4,
   "metadata": {},
   "outputs": [
    {
     "name": "stdout",
     "output_type": "stream",
     "text": [
      "La tabla de ventas contiene 4407 registros y 7 variables\n"
     ]
    }
   ],
   "source": [
    "print(f\"La tabla de ventas contiene {data_ventas.shape[0]} registros y {data_ventas.shape[1]} variables\")"
   ]
  },
  {
   "cell_type": "code",
   "execution_count": 5,
   "metadata": {},
   "outputs": [
    {
     "name": "stdout",
     "output_type": "stream",
     "text": [
      "<class 'pandas.core.frame.DataFrame'>\n",
      "RangeIndex: 4407 entries, 0 to 4406\n",
      "Data columns (total 7 columns):\n",
      " #   Column        Non-Null Count  Dtype         \n",
      "---  ------        --------------  -----         \n",
      " 0   Unnamed: 0    0 non-null      float64       \n",
      " 1   NroFactura    4407 non-null   int64         \n",
      " 2   FechaFactura  4407 non-null   datetime64[ns]\n",
      " 3   Cliente       4407 non-null   object        \n",
      " 4   MontoSinImp   4407 non-null   float64       \n",
      " 5   Impuestos     4407 non-null   float64       \n",
      " 6   MontoFactura  4407 non-null   float64       \n",
      "dtypes: datetime64[ns](1), float64(4), int64(1), object(1)\n",
      "memory usage: 241.1+ KB\n"
     ]
    }
   ],
   "source": [
    "data_ventas.info()"
   ]
  },
  {
   "cell_type": "markdown",
   "metadata": {},
   "source": [
    "### El tipo de dato de las variables parece estar correcto\n",
    "### Ahora, buscaremos registros duplicados y faltantes"
   ]
  },
  {
   "cell_type": "code",
   "execution_count": 6,
   "metadata": {},
   "outputs": [
    {
     "name": "stdout",
     "output_type": "stream",
     "text": [
      "Hay 0 registros duplicados\n",
      "Equivale al 0.0% de los datos\n"
     ]
    }
   ],
   "source": [
    "duplicados = data_ventas.duplicated().sum() \n",
    "porcentaje_duplicados = (duplicados * 100) / len(data_ventas)\n",
    "print(f\"Hay {duplicados} registros duplicados\\nEquivale al {porcentaje_duplicados}% de los datos\")"
   ]
  },
  {
   "cell_type": "code",
   "execution_count": 7,
   "metadata": {},
   "outputs": [
    {
     "name": "stdout",
     "output_type": "stream",
     "text": [
      "Hay 4407 registros con valores nulos\n",
      "Equivale al 100.0% de los datos\n"
     ]
    }
   ],
   "source": [
    "catn_nulos = data_ventas.isnull().sum().sum()\n",
    "porcentaje_nulos = (catn_nulos * 100) / len(data_ventas)\n",
    "print(f\"Hay {catn_nulos} registros con valores nulos\\nEquivale al {round(porcentaje_nulos, 1)}% de los datos\")"
   ]
  },
  {
   "cell_type": "code",
   "execution_count": 8,
   "metadata": {},
   "outputs": [
    {
     "data": {
      "text/html": [
       "<div>\n",
       "<style scoped>\n",
       "    .dataframe tbody tr th:only-of-type {\n",
       "        vertical-align: middle;\n",
       "    }\n",
       "\n",
       "    .dataframe tbody tr th {\n",
       "        vertical-align: top;\n",
       "    }\n",
       "\n",
       "    .dataframe thead th {\n",
       "        text-align: right;\n",
       "    }\n",
       "</style>\n",
       "<table border=\"1\" class=\"dataframe\">\n",
       "  <thead>\n",
       "    <tr style=\"text-align: right;\">\n",
       "      <th></th>\n",
       "      <th>cantidad</th>\n",
       "      <th>%</th>\n",
       "    </tr>\n",
       "  </thead>\n",
       "  <tbody>\n",
       "    <tr>\n",
       "      <th>Unnamed: 0</th>\n",
       "      <td>4407</td>\n",
       "      <td>100.0</td>\n",
       "    </tr>\n",
       "    <tr>\n",
       "      <th>NroFactura</th>\n",
       "      <td>0</td>\n",
       "      <td>0.0</td>\n",
       "    </tr>\n",
       "    <tr>\n",
       "      <th>FechaFactura</th>\n",
       "      <td>0</td>\n",
       "      <td>0.0</td>\n",
       "    </tr>\n",
       "    <tr>\n",
       "      <th>Cliente</th>\n",
       "      <td>0</td>\n",
       "      <td>0.0</td>\n",
       "    </tr>\n",
       "    <tr>\n",
       "      <th>MontoSinImp</th>\n",
       "      <td>0</td>\n",
       "      <td>0.0</td>\n",
       "    </tr>\n",
       "    <tr>\n",
       "      <th>Impuestos</th>\n",
       "      <td>0</td>\n",
       "      <td>0.0</td>\n",
       "    </tr>\n",
       "    <tr>\n",
       "      <th>MontoFactura</th>\n",
       "      <td>0</td>\n",
       "      <td>0.0</td>\n",
       "    </tr>\n",
       "  </tbody>\n",
       "</table>\n",
       "</div>"
      ],
      "text/plain": [
       "              cantidad      %\n",
       "Unnamed: 0        4407  100.0\n",
       "NroFactura           0    0.0\n",
       "FechaFactura         0    0.0\n",
       "Cliente              0    0.0\n",
       "MontoSinImp          0    0.0\n",
       "Impuestos            0    0.0\n",
       "MontoFactura         0    0.0"
      ]
     },
     "execution_count": 8,
     "metadata": {},
     "output_type": "execute_result"
    }
   ],
   "source": [
    "nulos = pd.concat([data_ventas.isnull().sum(), 100 * data_ventas.isnull().mean()], axis = 1)\n",
    "nulos.columns = [\"cantidad\", \"%\"]\n",
    "nulos.sort_values(by = \"%\", ascending = False)"
   ]
  },
  {
   "cell_type": "code",
   "execution_count": 9,
   "metadata": {},
   "outputs": [
    {
     "data": {
      "image/png": "[encoded data removed]",
      "text/plain": [
       "<Figure size 2500x1000 with 2 Axes>"
      ]
     },
     "metadata": {},
     "output_type": "display_data"
    }
   ],
   "source": [
    "msno.matrix(data_ventas)\n",
    "plt.show()"
   ]
  },
  {
   "cell_type": "markdown",
   "metadata": {},
   "source": [
    "### Podemos ver que la columna \"Unnamed: 0\" posee todos sus registros nulos. Esto se debe a que es una columna agregada arbitrariamente en el excel para darle márgen a los datos, por ende, no se tendrá en cuenta"
   ]
  },
  {
   "cell_type": "code",
   "execution_count": 10,
   "metadata": {},
   "outputs": [],
   "source": [
    "data_ventas = data_ventas.drop(columns = \"Unnamed: 0\")"
   ]
  },
  {
   "cell_type": "markdown",
   "metadata": {},
   "source": [
    "## Pasemos a analizar cada columna\n",
    "## NroFactura\n",
    "### Confirmamos que no haya ningún número de factura repetido"
   ]
  },
  {
   "cell_type": "code",
   "execution_count": 11,
   "metadata": {},
   "outputs": [
    {
     "name": "stdout",
     "output_type": "stream",
     "text": [
      "La mayor cantidad de veces que se repite un número de facturas es: 1\n"
     ]
    }
   ],
   "source": [
    "cant_nrofact = data_ventas[\"NroFactura\"].value_counts().max()\n",
    "print(f\"La mayor cantidad de veces que se repite un número de facturas es: {cant_nrofact}\")"
   ]
  },
  {
   "cell_type": "markdown",
   "metadata": {},
   "source": [
    "### Veamos el rango de número de factura"
   ]
  },
  {
   "cell_type": "code",
   "execution_count": 17,
   "metadata": {},
   "outputs": [
    {
     "name": "stdout",
     "output_type": "stream",
     "text": [
      "El rango de número de factura va desde 1 hasta 4407\n"
     ]
    }
   ],
   "source": [
    "nrofact_min = data_ventas[\"NroFactura\"].min()\n",
    "nrofact_max = data_ventas[\"NroFactura\"].max()\n",
    "print(f\"El rango de número de factura va desde {nrofact_min} hasta {nrofact_max}\")"
   ]
  },
  {
   "cell_type": "markdown",
   "metadata": {},
   "source": [
    "## FechaFactura"
   ]
  },
  {
   "cell_type": "code",
   "execution_count": 18,
   "metadata": {},
   "outputs": [
    {
     "name": "stdout",
     "output_type": "stream",
     "text": [
      "El rango de fecha de factura va desde 2014-01-03 00:00:00 hasta 2017-03-31 00:00:00\n",
      "Los datos de las ventas abarcan un periodo de 1183 dias\n"
     ]
    }
   ],
   "source": [
    "fechafact_min = data_ventas[\"FechaFactura\"].min()\n",
    "fechafact_max = data_ventas[\"FechaFactura\"].max()\n",
    "periodo = fechafact_max - fechafact_min\n",
    "print(f\"El rango de fecha de factura va desde {fechafact_min} hasta {fechafact_max}\")\n",
    "print(f\"Los datos de las ventas abarcan un periodo de {periodo.days} dias\")"
   ]
  },
  {
   "cell_type": "markdown",
   "metadata": {},
   "source": [
    "## Cliente"
   ]
  },
  {
   "cell_type": "code",
   "execution_count": 14,
   "metadata": {},
   "outputs": [
    {
     "data": {
      "text/plain": [
       "Johnson, Benjamin       60\n",
       "Semillas Santo Mongo    56\n",
       "South Portland Cnia     53\n",
       "Mitchell, Connor        49\n",
       "Perez, Jeremy           49\n",
       "                        ..\n",
       "Kiela Cnia              32\n",
       "Madridia Cnia           32\n",
       "Leo Seguros             31\n",
       "Arthur, Jermaine        31\n",
       "Rodolfo, Chavez         29\n",
       "Name: Cliente, Length: 107, dtype: int64"
      ]
     },
     "execution_count": 14,
     "metadata": {},
     "output_type": "execute_result"
    }
   ],
   "source": [
    "data_ventas[\"Cliente\"].value_counts()"
   ]
  },
  {
   "cell_type": "markdown",
   "metadata": {},
   "source": [
    "### A simple vista no se ven errores en los nombres de los clientes\n",
    "## MontoSinImp"
   ]
  },
  {
   "cell_type": "code",
   "execution_count": 24,
   "metadata": {},
   "outputs": [
    {
     "name": "stdout",
     "output_type": "stream",
     "text": [
      "El rango de montos sin impuestos va desde 95.59 hasta 100000.0\n"
     ]
    }
   ],
   "source": [
    "mntsinimp_min = data_ventas[\"MontoSinImp\"].min()\n",
    "mntsinimp_max = data_ventas[\"MontoSinImp\"].max()\n",
    "print(f\"El rango de montos sin impuestos va desde {mntsinimp_min} hasta {mntsinimp_max}\")"
   ]
  },
  {
   "cell_type": "code",
   "execution_count": 20,
   "metadata": {},
   "outputs": [
    {
     "data": {
      "image/png": "[encoded data removed]",
      "text/plain": [
       "<Figure size 640x480 with 1 Axes>"
      ]
     },
     "metadata": {},
     "output_type": "display_data"
    }
   ],
   "source": [
    "sns.boxplot(x = data_ventas[\"MontoSinImp\"], color = \"b\")\n",
    "plt.xlabel(\"Monto Sin Impuesto\")\n",
    "plt.ylabel(\"Cantidad\")\n",
    "plt.title(\"Conteo De Monto Sin Impuesto\")\n",
    "plt.show()"
   ]
  },
  {
   "cell_type": "markdown",
   "metadata": {},
   "source": [
    "### Analicemos este valor atípico"
   ]
  },
  {
   "cell_type": "code",
   "execution_count": 21,
   "metadata": {},
   "outputs": [
    {
     "data": {
      "text/html": [
       "<div>\n",
       "<style scoped>\n",
       "    .dataframe tbody tr th:only-of-type {\n",
       "        vertical-align: middle;\n",
       "    }\n",
       "\n",
       "    .dataframe tbody tr th {\n",
       "        vertical-align: top;\n",
       "    }\n",
       "\n",
       "    .dataframe thead th {\n",
       "        text-align: right;\n",
       "    }\n",
       "</style>\n",
       "<table border=\"1\" class=\"dataframe\">\n",
       "  <thead>\n",
       "    <tr style=\"text-align: right;\">\n",
       "      <th></th>\n",
       "      <th>MontoSinImp</th>\n",
       "    </tr>\n",
       "  </thead>\n",
       "  <tbody>\n",
       "    <tr>\n",
       "      <th>4406</th>\n",
       "      <td>100000.00</td>\n",
       "    </tr>\n",
       "    <tr>\n",
       "      <th>4405</th>\n",
       "      <td>10000.00</td>\n",
       "    </tr>\n",
       "    <tr>\n",
       "      <th>4403</th>\n",
       "      <td>1000.00</td>\n",
       "    </tr>\n",
       "    <tr>\n",
       "      <th>4317</th>\n",
       "      <td>896.00</td>\n",
       "    </tr>\n",
       "    <tr>\n",
       "      <th>4378</th>\n",
       "      <td>895.00</td>\n",
       "    </tr>\n",
       "    <tr>\n",
       "      <th>4355</th>\n",
       "      <td>894.00</td>\n",
       "    </tr>\n",
       "    <tr>\n",
       "      <th>4370</th>\n",
       "      <td>880.00</td>\n",
       "    </tr>\n",
       "    <tr>\n",
       "      <th>4319</th>\n",
       "      <td>871.00</td>\n",
       "    </tr>\n",
       "    <tr>\n",
       "      <th>4369</th>\n",
       "      <td>864.00</td>\n",
       "    </tr>\n",
       "    <tr>\n",
       "      <th>1720</th>\n",
       "      <td>860.31</td>\n",
       "    </tr>\n",
       "  </tbody>\n",
       "</table>\n",
       "</div>"
      ],
      "text/plain": [
       "      MontoSinImp\n",
       "4406    100000.00\n",
       "4405     10000.00\n",
       "4403      1000.00\n",
       "4317       896.00\n",
       "4378       895.00\n",
       "4355       894.00\n",
       "4370       880.00\n",
       "4319       871.00\n",
       "4369       864.00\n",
       "1720       860.31"
      ]
     },
     "execution_count": 21,
     "metadata": {},
     "output_type": "execute_result"
    }
   ],
   "source": [
    "df_mntsinimp = pd.DataFrame(data_ventas[\"MontoSinImp\"])\n",
    "df_mntsinimp.sort_values(by = \"MontoSinImp\", ascending = False).head(10)"
   ]
  },
  {
   "cell_type": "markdown",
   "metadata": {},
   "source": [
    "### Veamos los registros de los valores más altos"
   ]
  },
  {
   "cell_type": "code",
   "execution_count": 22,
   "metadata": {},
   "outputs": [
    {
     "data": {
      "text/html": [
       "<div>\n",
       "<style scoped>\n",
       "    .dataframe tbody tr th:only-of-type {\n",
       "        vertical-align: middle;\n",
       "    }\n",
       "\n",
       "    .dataframe tbody tr th {\n",
       "        vertical-align: top;\n",
       "    }\n",
       "\n",
       "    .dataframe thead th {\n",
       "        text-align: right;\n",
       "    }\n",
       "</style>\n",
       "<table border=\"1\" class=\"dataframe\">\n",
       "  <thead>\n",
       "    <tr style=\"text-align: right;\">\n",
       "      <th></th>\n",
       "      <th>NroFactura</th>\n",
       "      <th>FechaFactura</th>\n",
       "      <th>Cliente</th>\n",
       "      <th>MontoSinImp</th>\n",
       "      <th>Impuestos</th>\n",
       "      <th>MontoFactura</th>\n",
       "    </tr>\n",
       "  </thead>\n",
       "  <tbody>\n",
       "    <tr>\n",
       "      <th>4403</th>\n",
       "      <td>4404</td>\n",
       "      <td>2017-01-27</td>\n",
       "      <td>Wapato Cnia</td>\n",
       "      <td>1000.0</td>\n",
       "      <td>210.0</td>\n",
       "      <td>1210.0</td>\n",
       "    </tr>\n",
       "    <tr>\n",
       "      <th>4405</th>\n",
       "      <td>4406</td>\n",
       "      <td>2017-01-27</td>\n",
       "      <td>Wapato Cnia</td>\n",
       "      <td>10000.0</td>\n",
       "      <td>2100.0</td>\n",
       "      <td>12100.0</td>\n",
       "    </tr>\n",
       "    <tr>\n",
       "      <th>4406</th>\n",
       "      <td>4407</td>\n",
       "      <td>2017-03-31</td>\n",
       "      <td>Adams, Fernando</td>\n",
       "      <td>100000.0</td>\n",
       "      <td>21000.0</td>\n",
       "      <td>121000.0</td>\n",
       "    </tr>\n",
       "  </tbody>\n",
       "</table>\n",
       "</div>"
      ],
      "text/plain": [
       "      NroFactura FechaFactura          Cliente  MontoSinImp  Impuestos  \\\n",
       "4403        4404   2017-01-27      Wapato Cnia       1000.0      210.0   \n",
       "4405        4406   2017-01-27      Wapato Cnia      10000.0     2100.0   \n",
       "4406        4407   2017-03-31  Adams, Fernando     100000.0    21000.0   \n",
       "\n",
       "      MontoFactura  \n",
       "4403        1210.0  \n",
       "4405       12100.0  \n",
       "4406      121000.0  "
      ]
     },
     "execution_count": 22,
     "metadata": {},
     "output_type": "execute_result"
    }
   ],
   "source": [
    "mayores_mntsinimp = df_mntsinimp[\"MontoSinImp\"].nlargest(3).tolist()\n",
    "data_ventas[data_ventas[\"MontoSinImp\"].isin(mayores_mntsinimp)]"
   ]
  },
  {
   "cell_type": "markdown",
   "metadata": {},
   "source": [
    "### A pesar de que hay valores muy altos, no parecen erróneos\n",
    "## Impuestos"
   ]
  },
  {
   "cell_type": "code",
   "execution_count": 25,
   "metadata": {},
   "outputs": [
    {
     "name": "stdout",
     "output_type": "stream",
     "text": [
      "El rango de impuestos va desde 22.68 hasta 21000.0\n"
     ]
    }
   ],
   "source": [
    "imp_min = data_ventas[\"Impuestos\"].min()\n",
    "imp_max = data_ventas[\"Impuestos\"].max()\n",
    "print(f\"El rango de impuestos va desde {imp_min} hasta {imp_max}\")"
   ]
  },
  {
   "cell_type": "code",
   "execution_count": 26,
   "metadata": {},
   "outputs": [
    {
     "data": {
      "image/png": "[encoded data removed]",
      "text/plain": [
       "<Figure size 640x480 with 1 Axes>"
      ]
     },
     "metadata": {},
     "output_type": "display_data"
    }
   ],
   "source": [
    "sns.boxplot(x = data_ventas[\"Impuestos\"], color = \"b\")\n",
    "plt.xlabel(\"Impuestos\")\n",
    "plt.ylabel(\"Cantidad\")\n",
    "plt.title(\"Conteo de Impuestos\")\n",
    "plt.show()"
   ]
  },
  {
   "cell_type": "markdown",
   "metadata": {},
   "source": [
    "### Como ya verificamos con el análisis de montos sin impuesto, estos valores no son errores\n",
    "## MontoFactura"
   ]
  },
  {
   "cell_type": "code",
   "execution_count": 27,
   "metadata": {},
   "outputs": [
    {
     "name": "stdout",
     "output_type": "stream",
     "text": [
      "El rango de montos de factura va desde 121.0 hasta 121000.0\n"
     ]
    }
   ],
   "source": [
    "mntfact_min = data_ventas[\"MontoFactura\"].min()\n",
    "mntfact_max = data_ventas[\"MontoFactura\"].max()\n",
    "print(f\"El rango de montos de factura va desde {mntfact_min} hasta {mntfact_max}\")"
   ]
  },
  {
   "cell_type": "code",
   "execution_count": 31,
   "metadata": {},
   "outputs": [
    {
     "data": {
      "image/png": "[encoded data removed]",
      "text/plain": [
       "<Figure size 640x480 with 1 Axes>"
      ]
     },
     "metadata": {},
     "output_type": "display_data"
    }
   ],
   "source": [
    "sns.boxplot(x = data_ventas[\"MontoFactura\"], color = \"b\")\n",
    "plt.xlabel(\"Monto Factura\")\n",
    "plt.ylabel(\"Cantidad\")\n",
    "plt.title(\"Conteo de Monto Factura\")\n",
    "plt.show()"
   ]
  },
  {
   "cell_type": "markdown",
   "metadata": {},
   "source": [
    "### Al igual que antes, estos valores no son errores\n",
    "### Podemos notar que la columna Monto Factura es calculada de la siguiente manera:\n",
    "### MontoFactura = MontoSinImp + Impuestos\n",
    "## Ahora pasemos a analizar la tabla de clientes"
   ]
  },
  {
   "cell_type": "code",
   "execution_count": 32,
   "metadata": {},
   "outputs": [
    {
     "data": {
      "text/html": [
       "<div>\n",
       "<style scoped>\n",
       "    .dataframe tbody tr th:only-of-type {\n",
       "        vertical-align: middle;\n",
       "    }\n",
       "\n",
       "    .dataframe tbody tr th {\n",
       "        vertical-align: top;\n",
       "    }\n",
       "\n",
       "    .dataframe thead th {\n",
       "        text-align: right;\n",
       "    }\n",
       "</style>\n",
       "<table border=\"1\" class=\"dataframe\">\n",
       "  <thead>\n",
       "    <tr style=\"text-align: right;\">\n",
       "      <th></th>\n",
       "      <th>Unnamed: 0</th>\n",
       "      <th>Cliente</th>\n",
       "      <th>Tipo</th>\n",
       "      <th>Teléfono</th>\n",
       "      <th>Ubicación</th>\n",
       "    </tr>\n",
       "  </thead>\n",
       "  <tbody>\n",
       "    <tr>\n",
       "      <th>0</th>\n",
       "      <td>1</td>\n",
       "      <td>Adams, Fernando</td>\n",
       "      <td>Persona</td>\n",
       "      <td>373846615</td>\n",
       "      <td>Miami, Estados Unidos</td>\n",
       "    </tr>\n",
       "    <tr>\n",
       "      <th>1</th>\n",
       "      <td>2</td>\n",
       "      <td>Adams, Wyatt</td>\n",
       "      <td>Persona</td>\n",
       "      <td>646775929</td>\n",
       "      <td>Madrid, España</td>\n",
       "    </tr>\n",
       "    <tr>\n",
       "      <th>2</th>\n",
       "      <td>3</td>\n",
       "      <td>Alonso, Julio</td>\n",
       "      <td>Persona</td>\n",
       "      <td>667028591</td>\n",
       "      <td>Buenos Aires, Argentina</td>\n",
       "    </tr>\n",
       "    <tr>\n",
       "      <th>3</th>\n",
       "      <td>4</td>\n",
       "      <td>Ana, Maria</td>\n",
       "      <td>Persona</td>\n",
       "      <td>707344341</td>\n",
       "      <td>Córdoba, Argentina</td>\n",
       "    </tr>\n",
       "    <tr>\n",
       "      <th>4</th>\n",
       "      <td>5</td>\n",
       "      <td>Anderson, Nicholas</td>\n",
       "      <td>Persona</td>\n",
       "      <td>743415512</td>\n",
       "      <td>La Paz, Bolivia</td>\n",
       "    </tr>\n",
       "  </tbody>\n",
       "</table>\n",
       "</div>"
      ],
      "text/plain": [
       "   Unnamed: 0             Cliente     Tipo   Teléfono                Ubicación\n",
       "0           1     Adams, Fernando  Persona  373846615    Miami, Estados Unidos\n",
       "1           2        Adams, Wyatt  Persona  646775929           Madrid, España\n",
       "2           3       Alonso, Julio  Persona  667028591  Buenos Aires, Argentina\n",
       "3           4          Ana, Maria  Persona  707344341       Córdoba, Argentina\n",
       "4           5  Anderson, Nicholas  Persona  743415512          La Paz, Bolivia"
      ]
     },
     "execution_count": 32,
     "metadata": {},
     "output_type": "execute_result"
    }
   ],
   "source": [
    "data_clientes.head()"
   ]
  },
  {
   "cell_type": "code",
   "execution_count": 33,
   "metadata": {},
   "outputs": [
    {
     "name": "stdout",
     "output_type": "stream",
     "text": [
      "La tabla de clientes contiene 107 registros y 5 variables\n"
     ]
    }
   ],
   "source": [
    "print(f\"La tabla de clientes contiene {data_clientes.shape[0]} registros y {data_clientes.shape[1]} variables\")"
   ]
  },
  {
   "cell_type": "code",
   "execution_count": 34,
   "metadata": {},
   "outputs": [
    {
     "name": "stdout",
     "output_type": "stream",
     "text": [
      "<class 'pandas.core.frame.DataFrame'>\n",
      "RangeIndex: 107 entries, 0 to 106\n",
      "Data columns (total 5 columns):\n",
      " #   Column      Non-Null Count  Dtype \n",
      "---  ------      --------------  ----- \n",
      " 0   Unnamed: 0  107 non-null    int64 \n",
      " 1   Cliente     107 non-null    object\n",
      " 2   Tipo        107 non-null    object\n",
      " 3   Teléfono    107 non-null    int64 \n",
      " 4   Ubicación   107 non-null    object\n",
      "dtypes: int64(2), object(3)\n",
      "memory usage: 4.3+ KB\n"
     ]
    }
   ],
   "source": [
    "data_clientes.info()"
   ]
  },
  {
   "cell_type": "markdown",
   "metadata": {},
   "source": [
    "### El tipo de dato de las variables parece estar correcto\n",
    "### Vemos que no hay valores faltantes. Ahora, buscaremos registros duplicados"
   ]
  },
  {
   "cell_type": "code",
   "execution_count": 35,
   "metadata": {},
   "outputs": [
    {
     "name": "stdout",
     "output_type": "stream",
     "text": [
      "Hay 0 registros duplicados\n",
      "Equivale al 0.0% de los datos\n"
     ]
    }
   ],
   "source": [
    "duplicados_clientes = data_clientes.duplicated().sum() \n",
    "porcentaje_duplicados_clientes = (duplicados_clientes * 100) / len(data_clientes)\n",
    "print(f\"Hay {duplicados_clientes} registros duplicados\\nEquivale al {porcentaje_duplicados_clientes}% de los datos\")"
   ]
  },
  {
   "cell_type": "markdown",
   "metadata": {},
   "source": [
    "## Pasemos a analizar cada columna\n",
    "## Unnamed: 0"
   ]
  },
  {
   "cell_type": "code",
   "execution_count": 37,
   "metadata": {},
   "outputs": [
    {
     "data": {
      "text/plain": [
       "0        1\n",
       "1        2\n",
       "2        3\n",
       "3        4\n",
       "4        5\n",
       "      ... \n",
       "102    103\n",
       "103    104\n",
       "104    105\n",
       "105    106\n",
       "106    107\n",
       "Name: Unnamed: 0, Length: 107, dtype: int64"
      ]
     },
     "execution_count": 37,
     "metadata": {},
     "output_type": "execute_result"
    }
   ],
   "source": [
    "data_clientes[\"Unnamed: 0\"]"
   ]
  },
  {
   "cell_type": "markdown",
   "metadata": {},
   "source": [
    "### Vemos que esta columna cumple el papel de índice así que se elimina ya que no será de utilidad\n",
    "## Cliente"
   ]
  },
  {
   "cell_type": "code",
   "execution_count": 38,
   "metadata": {},
   "outputs": [
    {
     "data": {
      "text/plain": [
       "Adams, Fernando                 1\n",
       "Reed, Richard                   1\n",
       "Perez, Jeremy                   1\n",
       "Paris Cnia                      1\n",
       "Pal, Ricardo                    1\n",
       "                               ..\n",
       "Garcia, James                   1\n",
       "Gao, Ronnie                     1\n",
       "Fiorilo Transportes y Correo    1\n",
       "Falmouth Cnia                   1\n",
       "Zeng, Omar                      1\n",
       "Name: Cliente, Length: 107, dtype: int64"
      ]
     },
     "execution_count": 38,
     "metadata": {},
     "output_type": "execute_result"
    }
   ],
   "source": [
    "data_clientes[\"Cliente\"].value_counts()"
   ]
  },
  {
   "cell_type": "markdown",
   "metadata": {},
   "source": [
    "### A simple vista no se ven errores en los nombres de los clientes y notamos que se cumple la relación de que podemos tener una o varias ventas al mismo CLIENTE relacionadas por la columna cliente con el nombre y apellido\n",
    "## Tipo (El cliente puede ser una persona o una empresa)"
   ]
  },
  {
   "cell_type": "code",
   "execution_count": 39,
   "metadata": {},
   "outputs": [
    {
     "data": {
      "text/plain": [
       "Persona    66\n",
       "Empresa    41\n",
       "Name: Tipo, dtype: int64"
      ]
     },
     "execution_count": 39,
     "metadata": {},
     "output_type": "execute_result"
    }
   ],
   "source": [
    "data_clientes[\"Tipo\"].value_counts()"
   ]
  },
  {
   "cell_type": "markdown",
   "metadata": {},
   "source": [
    "## Teléfono"
   ]
  },
  {
   "cell_type": "code",
   "execution_count": 42,
   "metadata": {},
   "outputs": [
    {
     "name": "stdout",
     "output_type": "stream",
     "text": [
      "El rango de número de teléfono va desde 180874224 hasta 858418641\n"
     ]
    }
   ],
   "source": [
    "tel_min = data_clientes[\"Teléfono\"].min()\n",
    "tel_max = data_clientes[\"Teléfono\"].max()\n",
    "print(f\"El rango de número de teléfono va desde {tel_min} hasta {tel_max}\")"
   ]
  },
  {
   "cell_type": "markdown",
   "metadata": {},
   "source": [
    "### Vemos que todos los números de teléfono tienen la misma cantidad de dígitos\n",
    "## Ubicación"
   ]
  },
  {
   "cell_type": "code",
   "execution_count": 43,
   "metadata": {},
   "outputs": [
    {
     "data": {
      "text/plain": [
       "Miami, Estados Unidos                  3\n",
       "La Habana, Cuba                        3\n",
       "Ciudad de México, México               3\n",
       "Guayaquil, Ecuador                     3\n",
       "Quito, Ecuador                         3\n",
       "Bogotá, Colombia                       3\n",
       "San José, Costa Rica                   3\n",
       "Los Angeles, Estados Unidos            3\n",
       "Monterrey, México                      3\n",
       "Madrid, España                         3\n",
       "Lima, Perú                             3\n",
       "Barcelona, España                      3\n",
       "Barranquilla, Colombia                 3\n",
       "Guadalajara, México                    3\n",
       "Puebla, México                         3\n",
       "Caracas, Venezuela                     3\n",
       "Río de Janeiro, Brasil                 3\n",
       "Asunción, Paraguay                     3\n",
       "New York, Estados Unidos               3\n",
       "Ciudad de Guatemala, Guatemala         3\n",
       "Medellín, Colombia                     3\n",
       "Montevideo, Uruguay                    3\n",
       "Maracaibo, Venezuela                   3\n",
       "La Paz, Bolivia                        3\n",
       "Córdoba, Argentina                     3\n",
       "Buenos Aires, Argentina                3\n",
       "Managua, Nicaragua                     3\n",
       "Sevilla, España                        2\n",
       "São Paulo, Brasil                      2\n",
       "San Juan, Puerto Rico                  2\n",
       "San Salvador, El Salvador              2\n",
       "Valencia, España                       2\n",
       "Toluca, México                         2\n",
       "Santiago de Cali, Colombia             2\n",
       "Santo Domingo, República Dominicana    2\n",
       "Tegucigalpa, Honduras                  2\n",
       "Santiago, Chile                        2\n",
       "Valencia, Venezuela                    2\n",
       "Trujillo, Perú                         2\n",
       "Santa Cruz de la Sierra, Bolivia       2\n",
       "Name: Ubicación, dtype: int64"
      ]
     },
     "execution_count": 43,
     "metadata": {},
     "output_type": "execute_result"
    }
   ],
   "source": [
    "data_clientes[\"Ubicación\"].value_counts()"
   ]
  },
  {
   "cell_type": "markdown",
   "metadata": {},
   "source": [
    "### A simple vista no se ven errores en las ubicaciones\n",
    "## Ahora pasemos a analizar la tabla de ubicaciones"
   ]
  },
  {
   "cell_type": "code",
   "execution_count": 44,
   "metadata": {},
   "outputs": [
    {
     "data": {
      "text/html": [
       "<div>\n",
       "<style scoped>\n",
       "    .dataframe tbody tr th:only-of-type {\n",
       "        vertical-align: middle;\n",
       "    }\n",
       "\n",
       "    .dataframe tbody tr th {\n",
       "        vertical-align: top;\n",
       "    }\n",
       "\n",
       "    .dataframe thead th {\n",
       "        text-align: right;\n",
       "    }\n",
       "</style>\n",
       "<table border=\"1\" class=\"dataframe\">\n",
       "  <thead>\n",
       "    <tr style=\"text-align: right;\">\n",
       "      <th></th>\n",
       "      <th>Unnamed: 0</th>\n",
       "      <th>Ciudad</th>\n",
       "      <th>País</th>\n",
       "      <th>Ubicación</th>\n",
       "    </tr>\n",
       "  </thead>\n",
       "  <tbody>\n",
       "    <tr>\n",
       "      <th>0</th>\n",
       "      <td>NaN</td>\n",
       "      <td>Donosti</td>\n",
       "      <td>Pais Vasco</td>\n",
       "      <td>Donosti, Pais Vasco</td>\n",
       "    </tr>\n",
       "    <tr>\n",
       "      <th>1</th>\n",
       "      <td>NaN</td>\n",
       "      <td>Asunción</td>\n",
       "      <td>Paraguay</td>\n",
       "      <td>Asunción, Paraguay</td>\n",
       "    </tr>\n",
       "    <tr>\n",
       "      <th>2</th>\n",
       "      <td>NaN</td>\n",
       "      <td>Barcelona</td>\n",
       "      <td>España</td>\n",
       "      <td>Barcelona, España</td>\n",
       "    </tr>\n",
       "    <tr>\n",
       "      <th>3</th>\n",
       "      <td>NaN</td>\n",
       "      <td>Barranquilla</td>\n",
       "      <td>Colombia</td>\n",
       "      <td>Barranquilla, Colombia</td>\n",
       "    </tr>\n",
       "    <tr>\n",
       "      <th>4</th>\n",
       "      <td>NaN</td>\n",
       "      <td>Bogotá</td>\n",
       "      <td>Colombia</td>\n",
       "      <td>Bogotá, Colombia</td>\n",
       "    </tr>\n",
       "  </tbody>\n",
       "</table>\n",
       "</div>"
      ],
      "text/plain": [
       "   Unnamed: 0        Ciudad        País               Ubicación\n",
       "0         NaN       Donosti  Pais Vasco     Donosti, Pais Vasco\n",
       "1         NaN      Asunción    Paraguay      Asunción, Paraguay\n",
       "2         NaN     Barcelona      España       Barcelona, España\n",
       "3         NaN  Barranquilla    Colombia  Barranquilla, Colombia\n",
       "4         NaN        Bogotá    Colombia        Bogotá, Colombia"
      ]
     },
     "execution_count": 44,
     "metadata": {},
     "output_type": "execute_result"
    }
   ],
   "source": [
    "data_ubicaciones.head()"
   ]
  },
  {
   "cell_type": "code",
   "execution_count": 45,
   "metadata": {},
   "outputs": [
    {
     "name": "stdout",
     "output_type": "stream",
     "text": [
      "La tabla de ubicaciones contiene 41 registros y 4 variables\n"
     ]
    }
   ],
   "source": [
    "print(f\"La tabla de ubicaciones contiene {data_ubicaciones.shape[0]} registros y {data_ubicaciones.shape[1]} variables\")"
   ]
  },
  {
   "cell_type": "code",
   "execution_count": 46,
   "metadata": {},
   "outputs": [
    {
     "name": "stdout",
     "output_type": "stream",
     "text": [
      "<class 'pandas.core.frame.DataFrame'>\n",
      "RangeIndex: 41 entries, 0 to 40\n",
      "Data columns (total 4 columns):\n",
      " #   Column      Non-Null Count  Dtype  \n",
      "---  ------      --------------  -----  \n",
      " 0   Unnamed: 0  0 non-null      float64\n",
      " 1   Ciudad      41 non-null     object \n",
      " 2   País        41 non-null     object \n",
      " 3   Ubicación   41 non-null     object \n",
      "dtypes: float64(1), object(3)\n",
      "memory usage: 1.4+ KB\n"
     ]
    }
   ],
   "source": [
    "data_ubicaciones.info()"
   ]
  },
  {
   "cell_type": "markdown",
   "metadata": {},
   "source": [
    "### El tipo de dato de las variables parece estar correcto\n",
    "### Ahora buscaremos registros duplicados"
   ]
  },
  {
   "cell_type": "code",
   "execution_count": 47,
   "metadata": {},
   "outputs": [
    {
     "name": "stdout",
     "output_type": "stream",
     "text": [
      "Hay 0 registros duplicados\n",
      "Equivale al 0.0% de los datos\n"
     ]
    }
   ],
   "source": [
    "duplicados_ubicaciones = data_ubicaciones.duplicated().sum() \n",
    "porcentaje_duplicados_ubicaciones = (duplicados_ubicaciones * 100) / len(data_ubicaciones)\n",
    "print(f\"Hay {duplicados_ubicaciones} registros duplicados\\nEquivale al {porcentaje_duplicados_ubicaciones}% de los datos\")"
   ]
  },
  {
   "cell_type": "markdown",
   "metadata": {},
   "source": [
    "### Al igual que en la tabla de ventas, la columna \"Unnamed: 0\" será eliminada"
   ]
  },
  {
   "cell_type": "code",
   "execution_count": 48,
   "metadata": {},
   "outputs": [],
   "source": [
    "data_ubicaciones = data_ubicaciones.drop(columns = \"Unnamed: 0\")"
   ]
  },
  {
   "cell_type": "markdown",
   "metadata": {},
   "source": [
    "## Pasemos a analizar cada columna\n",
    "## Ciudad"
   ]
  },
  {
   "cell_type": "code",
   "execution_count": 50,
   "metadata": {},
   "outputs": [
    {
     "data": {
      "text/plain": [
       "Valencia                   2\n",
       "Asunción                   1\n",
       "Montevideo                 1\n",
       "New York                   1\n",
       "Puebla                     1\n",
       "Quito                      1\n",
       "Río de Janeiro             1\n",
       "San José                   1\n",
       "San Juan                   1\n",
       "San Salvador               1\n",
       "Santa Cruz de la Sierra    1\n",
       "Santiago de Cali           1\n",
       "Santiago                   1\n",
       "Santo Domingo              1\n",
       "São Paulo                  1\n",
       "Sevilla                    1\n",
       "Tegucigalpa                1\n",
       "Toluca                     1\n",
       "Trujillo                   1\n",
       "Monterrey                  1\n",
       "Donosti                    1\n",
       "Medellín                   1\n",
       "Córdoba                    1\n",
       "Barcelona                  1\n",
       "Barranquilla               1\n",
       "Bogotá                     1\n",
       "Buenos Aires               1\n",
       "Caracas                    1\n",
       "Ciudad de Guatemala        1\n",
       "Ciudad de México           1\n",
       "Guadalajara                1\n",
       "Maracaibo                  1\n",
       "Guayaquil                  1\n",
       "La Habana                  1\n",
       "La Paz                     1\n",
       "Lima                       1\n",
       "Los Angeles                1\n",
       "Madrid                     1\n",
       "Managua                    1\n",
       "Miami                      1\n",
       "Name: Ciudad, dtype: int64"
      ]
     },
     "execution_count": 50,
     "metadata": {},
     "output_type": "execute_result"
    }
   ],
   "source": [
    "data_ubicaciones[\"Ciudad\"].value_counts()"
   ]
  },
  {
   "cell_type": "markdown",
   "metadata": {},
   "source": [
    "### A simple vista no se ven errores en las ciudades\n",
    "## País"
   ]
  },
  {
   "cell_type": "code",
   "execution_count": 51,
   "metadata": {},
   "outputs": [
    {
     "data": {
      "text/plain": [
       "México                  5\n",
       "España                  4\n",
       "Colombia                4\n",
       "Venezuela               3\n",
       "Estados Unidos          3\n",
       "Perú                    2\n",
       "Brasil                  2\n",
       "Argentina               2\n",
       "Ecuador                 2\n",
       "Bolivia                 2\n",
       "República Dominicana    1\n",
       "Chile                   1\n",
       "El Salvador             1\n",
       "Puerto Rico             1\n",
       "Costa Rica              1\n",
       "Pais Vasco              1\n",
       "Uruguay                 1\n",
       "Nicaragua               1\n",
       "Paraguay                1\n",
       "Cuba                    1\n",
       "Guatemala               1\n",
       "Honduras                1\n",
       "Name: País, dtype: int64"
      ]
     },
     "execution_count": 51,
     "metadata": {},
     "output_type": "execute_result"
    }
   ],
   "source": [
    "data_ubicaciones[\"País\"].value_counts()"
   ]
  },
  {
   "cell_type": "markdown",
   "metadata": {},
   "source": [
    "### A simple vista no se ven errores en los países\n",
    "## Ubicación (La columna ubicación nos permite conocer la ciudad y país del cliente)"
   ]
  },
  {
   "cell_type": "code",
   "execution_count": 52,
   "metadata": {},
   "outputs": [
    {
     "data": {
      "text/plain": [
       "Donosti, Pais Vasco                    1\n",
       "Monterrey, México                      1\n",
       "New York, Estados Unidos               1\n",
       "Puebla, México                         1\n",
       "Quito, Ecuador                         1\n",
       "Río de Janeiro, Brasil                 1\n",
       "San José, Costa Rica                   1\n",
       "San Juan, Puerto Rico                  1\n",
       "San Salvador, El Salvador              1\n",
       "Santa Cruz de la Sierra, Bolivia       1\n",
       "Santiago de Cali, Colombia             1\n",
       "Santiago, Chile                        1\n",
       "Santo Domingo, República Dominicana    1\n",
       "São Paulo, Brasil                      1\n",
       "Sevilla, España                        1\n",
       "Tegucigalpa, Honduras                  1\n",
       "Toluca, México                         1\n",
       "Trujillo, Perú                         1\n",
       "Valencia, España                       1\n",
       "Montevideo, Uruguay                    1\n",
       "Miami, Estados Unidos                  1\n",
       "Asunción, Paraguay                     1\n",
       "Medellín, Colombia                     1\n",
       "Barcelona, España                      1\n",
       "Barranquilla, Colombia                 1\n",
       "Bogotá, Colombia                       1\n",
       "Buenos Aires, Argentina                1\n",
       "Caracas, Venezuela                     1\n",
       "Ciudad de Guatemala, Guatemala         1\n",
       "Ciudad de México, México               1\n",
       "Córdoba, Argentina                     1\n",
       "Guadalajara, México                    1\n",
       "Guayaquil, Ecuador                     1\n",
       "La Habana, Cuba                        1\n",
       "La Paz, Bolivia                        1\n",
       "Lima, Perú                             1\n",
       "Los Angeles, Estados Unidos            1\n",
       "Madrid, España                         1\n",
       "Managua, Nicaragua                     1\n",
       "Maracaibo, Venezuela                   1\n",
       "Valencia, Venezuela                    1\n",
       "Name: Ubicación, dtype: int64"
      ]
     },
     "execution_count": 52,
     "metadata": {},
     "output_type": "execute_result"
    }
   ],
   "source": [
    "data_ubicaciones[\"Ubicación\"].value_counts()"
   ]
  },
  {
   "cell_type": "markdown",
   "metadata": {},
   "source": [
    "### A simple vista no se ven errores en las ubicaciones y podemos notar que esta columna relaciona la tabla Ubicaciones con la tabla Clientes\n",
    "## Ahora pasemos a analizar la tabla de Cobros"
   ]
  },
  {
   "cell_type": "code",
   "execution_count": 53,
   "metadata": {},
   "outputs": [
    {
     "data": {
      "text/html": [
       "<div>\n",
       "<style scoped>\n",
       "    .dataframe tbody tr th:only-of-type {\n",
       "        vertical-align: middle;\n",
       "    }\n",
       "\n",
       "    .dataframe tbody tr th {\n",
       "        vertical-align: top;\n",
       "    }\n",
       "\n",
       "    .dataframe thead th {\n",
       "        text-align: right;\n",
       "    }\n",
       "</style>\n",
       "<table border=\"1\" class=\"dataframe\">\n",
       "  <thead>\n",
       "    <tr style=\"text-align: right;\">\n",
       "      <th></th>\n",
       "      <th>Unnamed: 0</th>\n",
       "      <th>NroFactura</th>\n",
       "      <th>FechaCobro</th>\n",
       "      <th>MontoCobrado</th>\n",
       "    </tr>\n",
       "  </thead>\n",
       "  <tbody>\n",
       "    <tr>\n",
       "      <th>0</th>\n",
       "      <td>NaN</td>\n",
       "      <td>1</td>\n",
       "      <td>2014-01-19</td>\n",
       "      <td>106.61</td>\n",
       "    </tr>\n",
       "    <tr>\n",
       "      <th>1</th>\n",
       "      <td>NaN</td>\n",
       "      <td>1</td>\n",
       "      <td>2014-01-12</td>\n",
       "      <td>862.60</td>\n",
       "    </tr>\n",
       "    <tr>\n",
       "      <th>2</th>\n",
       "      <td>NaN</td>\n",
       "      <td>2</td>\n",
       "      <td>2014-01-16</td>\n",
       "      <td>95.83</td>\n",
       "    </tr>\n",
       "    <tr>\n",
       "      <th>3</th>\n",
       "      <td>NaN</td>\n",
       "      <td>2</td>\n",
       "      <td>2014-01-10</td>\n",
       "      <td>436.57</td>\n",
       "    </tr>\n",
       "    <tr>\n",
       "      <th>4</th>\n",
       "      <td>NaN</td>\n",
       "      <td>3</td>\n",
       "      <td>2014-01-27</td>\n",
       "      <td>22.07</td>\n",
       "    </tr>\n",
       "  </tbody>\n",
       "</table>\n",
       "</div>"
      ],
      "text/plain": [
       "   Unnamed: 0  NroFactura FechaCobro  MontoCobrado\n",
       "0         NaN           1 2014-01-19        106.61\n",
       "1         NaN           1 2014-01-12        862.60\n",
       "2         NaN           2 2014-01-16         95.83\n",
       "3         NaN           2 2014-01-10        436.57\n",
       "4         NaN           3 2014-01-27         22.07"
      ]
     },
     "execution_count": 53,
     "metadata": {},
     "output_type": "execute_result"
    }
   ],
   "source": [
    "data_cobros.head()"
   ]
  },
  {
   "cell_type": "code",
   "execution_count": 54,
   "metadata": {},
   "outputs": [
    {
     "name": "stdout",
     "output_type": "stream",
     "text": [
      "La tabla de cobros contiene 8510 registros y 4 variables\n"
     ]
    }
   ],
   "source": [
    "print(f\"La tabla de cobros contiene {data_cobros.shape[0]} registros y {data_cobros.shape[1]} variables\")"
   ]
  },
  {
   "cell_type": "code",
   "execution_count": 55,
   "metadata": {},
   "outputs": [
    {
     "name": "stdout",
     "output_type": "stream",
     "text": [
      "<class 'pandas.core.frame.DataFrame'>\n",
      "RangeIndex: 8510 entries, 0 to 8509\n",
      "Data columns (total 4 columns):\n",
      " #   Column        Non-Null Count  Dtype         \n",
      "---  ------        --------------  -----         \n",
      " 0   Unnamed: 0    0 non-null      float64       \n",
      " 1   NroFactura    8510 non-null   int64         \n",
      " 2   FechaCobro    8510 non-null   datetime64[ns]\n",
      " 3   MontoCobrado  8510 non-null   float64       \n",
      "dtypes: datetime64[ns](1), float64(2), int64(1)\n",
      "memory usage: 266.1 KB\n"
     ]
    }
   ],
   "source": [
    "data_cobros.info()"
   ]
  },
  {
   "cell_type": "markdown",
   "metadata": {},
   "source": [
    "### El tipo de dato de las variables parece estar correcto\n",
    "### Ahora buscaremos registros duplicados"
   ]
  },
  {
   "cell_type": "code",
   "execution_count": 56,
   "metadata": {},
   "outputs": [
    {
     "name": "stdout",
     "output_type": "stream",
     "text": [
      "Hay 0 registros duplicados\n",
      "Equivale al 0.0% de los datos\n"
     ]
    }
   ],
   "source": [
    "duplicados_cobros = data_cobros.duplicated().sum() \n",
    "porcentaje_duplicados_cobros = (duplicados_cobros * 100) / len(data_cobros)\n",
    "print(f\"Hay {duplicados_cobros} registros duplicados\\nEquivale al {porcentaje_duplicados_cobros}% de los datos\")"
   ]
  },
  {
   "cell_type": "markdown",
   "metadata": {},
   "source": [
    "### Al igual que antes, la columna \"Unnamed: 0\" será eliminada"
   ]
  },
  {
   "cell_type": "code",
   "execution_count": 58,
   "metadata": {},
   "outputs": [],
   "source": [
    "data_cobros = data_cobros.drop(columns = \"Unnamed: 0\")"
   ]
  },
  {
   "cell_type": "markdown",
   "metadata": {},
   "source": [
    "## Pasemos a analizar cada columna\n",
    "## NroFactura\n",
    "### Veamos la máxima cantidad de veces que se repite un número de factura"
   ]
  },
  {
   "cell_type": "code",
   "execution_count": 62,
   "metadata": {},
   "outputs": [
    {
     "name": "stdout",
     "output_type": "stream",
     "text": [
      "La mayor cantidad de veces que se repite un número de facturas es: 2\n"
     ]
    }
   ],
   "source": [
    "cant_nrofact_cobros = data_cobros[\"NroFactura\"].value_counts().max()\n",
    "print(f\"La mayor cantidad de veces que se repite un número de facturas es: {cant_nrofact_cobros}\")"
   ]
  },
  {
   "cell_type": "markdown",
   "metadata": {},
   "source": [
    "### Esto se debe a que está relacionado con las VENTAS por el NroFactura, una venta puede fraccionarse en varios cobros\n",
    "## FechaCobro"
   ]
  },
  {
   "cell_type": "code",
   "execution_count": 67,
   "metadata": {},
   "outputs": [
    {
     "name": "stdout",
     "output_type": "stream",
     "text": [
      "El rango de fecha de cobros va desde 2014-01-10 00:00:00 hasta 2016-11-30 00:00:00\n",
      "Los datos de los cobros abarcan un periodo de 1055 dias\n"
     ]
    }
   ],
   "source": [
    "fechacobro_min = data_cobros[\"FechaCobro\"].min()\n",
    "fechacobro_max = data_cobros[\"FechaCobro\"].max()\n",
    "periodo_cobro = fechacobro_max - fechacobro_min\n",
    "print(f\"El rango de fecha de cobros va desde {fechacobro_min} hasta {fechacobro_max}\")\n",
    "print(f\"Los datos de los cobros abarcan un periodo de {periodo_cobro.days} dias\")"
   ]
  },
  {
   "cell_type": "markdown",
   "metadata": {},
   "source": [
    "## MontoCobrado"
   ]
  },
  {
   "cell_type": "code",
   "execution_count": 69,
   "metadata": {},
   "outputs": [
    {
     "name": "stdout",
     "output_type": "stream",
     "text": [
      "El rango de cobros de factura va desde 0.0 hasta 1089.0\n"
     ]
    }
   ],
   "source": [
    "mntcobro_min = data_cobros[\"MontoCobrado\"].min()\n",
    "mntcobro_max = data_cobros[\"MontoCobrado\"].max()\n",
    "print(f\"El rango de cobros de factura va desde {mntcobro_min} hasta {mntcobro_max}\")"
   ]
  },
  {
   "cell_type": "markdown",
   "metadata": {},
   "source": [
    "### ¿Es posible que se cobre un monto por un valor de 0? Esta información deberá ser verificada con el proveedor de los datos\n",
    "## Por último pasemos a analizar la tabla Aux"
   ]
  },
  {
   "cell_type": "code",
   "execution_count": 74,
   "metadata": {},
   "outputs": [
    {
     "data": {
      "text/html": [
       "<div>\n",
       "<style scoped>\n",
       "    .dataframe tbody tr th:only-of-type {\n",
       "        vertical-align: middle;\n",
       "    }\n",
       "\n",
       "    .dataframe tbody tr th {\n",
       "        vertical-align: top;\n",
       "    }\n",
       "\n",
       "    .dataframe thead th {\n",
       "        text-align: right;\n",
       "    }\n",
       "</style>\n",
       "<table border=\"1\" class=\"dataframe\">\n",
       "  <thead>\n",
       "    <tr style=\"text-align: right;\">\n",
       "      <th></th>\n",
       "      <th>Tipo</th>\n",
       "    </tr>\n",
       "  </thead>\n",
       "  <tbody>\n",
       "    <tr>\n",
       "      <th>0</th>\n",
       "      <td>Empresa</td>\n",
       "    </tr>\n",
       "    <tr>\n",
       "      <th>1</th>\n",
       "      <td>Persona</td>\n",
       "    </tr>\n",
       "  </tbody>\n",
       "</table>\n",
       "</div>"
      ],
      "text/plain": [
       "      Tipo\n",
       "0  Empresa\n",
       "1  Persona"
      ]
     },
     "execution_count": 74,
     "metadata": {},
     "output_type": "execute_result"
    }
   ],
   "source": [
    "data_aux.head()"
   ]
  },
  {
   "cell_type": "code",
   "execution_count": 75,
   "metadata": {},
   "outputs": [
    {
     "name": "stdout",
     "output_type": "stream",
     "text": [
      "<class 'pandas.core.frame.DataFrame'>\n",
      "RangeIndex: 2 entries, 0 to 1\n",
      "Data columns (total 1 columns):\n",
      " #   Column  Non-Null Count  Dtype \n",
      "---  ------  --------------  ----- \n",
      " 0   Tipo    2 non-null      object\n",
      "dtypes: object(1)\n",
      "memory usage: 144.0+ bytes\n"
     ]
    }
   ],
   "source": [
    "data_aux.info()"
   ]
  },
  {
   "cell_type": "markdown",
   "metadata": {},
   "source": [
    "### Esta tabla solo contiene la información del tipo de cliente y está relacionada con la tabla Clientes\n",
    "### Con esto, conocemos el contexto en el que estamos trabajando y tenemos la información suficiente para desarrollar el reporte en Power BI"
   ]
  }
 ],
 "metadata": {
  "kernelspec": {
   "display_name": "Python 3",
   "language": "python",
   "name": "python3"
  },
  "language_info": {
   "codemirror_mode": {
    "name": "ipython",
    "version": 3
   },
   "file_extension": ".py",
   "mimetype": "text/x-python",
   "name": "python",
   "nbconvert_exporter": "python",
   "pygments_lexer": "ipython3",
   "version": "3.10.4"
  },
  "orig_nbformat": 4
 },
 "nbformat": 4,
 "nbformat_minor": 2
}
